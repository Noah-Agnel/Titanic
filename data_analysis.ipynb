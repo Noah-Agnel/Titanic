{
 "cells": [
  {
   "cell_type": "markdown",
   "id": "e7a8c4a5",
   "metadata": {},
   "source": [
    "# Analysis of Titanic Data"
   ]
  },
  {
   "cell_type": "code",
   "execution_count": 3,
   "id": "f84779f1",
   "metadata": {},
   "outputs": [],
   "source": [
    "import csv\n",
    "import numpy as np"
   ]
  },
  {
   "cell_type": "markdown",
   "id": "8bc31166",
   "metadata": {},
   "source": [
    "## Importation of Data "
   ]
  },
  {
   "cell_type": "markdown",
   "id": "146dcd07",
   "metadata": {},
   "source": [
    "Survived,Pclass,Name,Sex,Age,SibSp,Parch,Ticket,Fare,Cabin,Embarked,a"
   ]
  },
  {
   "cell_type": "code",
   "execution_count": 1,
   "id": "54bd83cb",
   "metadata": {},
   "outputs": [
    {
     "name": "stdout",
     "output_type": "stream",
     "text": [
      "11\n"
     ]
    }
   ],
   "source": [
    "label = 'Survived,Pclass,Name,Sex,Age,SibSp,Parch,Ticket,Fare,Cabin,Embarked,'\n",
    "count = 0\n",
    "for c in label : \n",
    "    if c == ',':\n",
    "        count +=1\n",
    "print(count)"
   ]
  },
  {
   "cell_type": "code",
   "execution_count": 17,
   "id": "717dfdb9",
   "metadata": {},
   "outputs": [
    {
     "name": "stdout",
     "output_type": "stream",
     "text": [
      "(891, 8)\n",
      "[['0' '3.0' 'male' ... '0' '7.25' 'S']\n",
      " ['1' '1.0' 'female' ... '0' '71.2833' 'C']\n",
      " ['1' '3.0' 'female' ... '0' '7.925' 'S']\n",
      " ...\n",
      " ['0' '3.0' 'female' ... '2' '23.45' 'S']\n",
      " ['1' '1.0' 'male' ... '0' '30.0' 'C']\n",
      " ['0' '3.0' 'male' ... '0' '7.75' 'Q']]\n"
     ]
    },
    {
     "data": {
      "text/plain": [
       "np.int64(0)"
      ]
     },
     "execution_count": 17,
     "metadata": {},
     "output_type": "execute_result"
    }
   ],
   "source": [
    "\n",
    "titanic = []\n",
    "with open('train.csv', newline='') as csvfile: \n",
    "    reader = csv.DictReader(csvfile) #Première ligne avec le noms des variables \n",
    "    for i, row in enumerate(reader,start=1) :  # 1 pour ne pas prendre le header en compte \n",
    "        survived = int(row['Survived']) # 0 = No, 1 = Yes\n",
    "        pclass = float(row['Pclass']) #\t1 = 1st, 2 = 2nd, 3 = 3rd\n",
    "        sex = str(row['Sex']) if row['Sex'] != '' else np.nan\n",
    "        age = float(row['Age']) if row['Age'] != '' else np.nan\n",
    "        sibsp = int(row['SibSp']) #Siblings and spouses \n",
    "        parch = str(row['Parch']) # Parents and children \n",
    "        fare = float(row['Fare']) if row['Fare'] != '' else np.nan\n",
    "        embarked = row['Embarked']if row['Embarked'] != '' else np.nan  # C = Cherbourg, Q = Queenstown, S = Southampton\n",
    "        titanic.append([survived,pclass,sex,age,sibsp,parch,fare,embarked]) \n",
    "\n",
    "    titanic = np.array(titanic)\n",
    "    print(titanic.shape)\n",
    "\n",
    "print(titanic)\n",
    "np.sum(titanic == np.nan)\n",
    "        "
   ]
  }
 ],
 "metadata": {
  "kernelspec": {
   "display_name": "Python 3",
   "language": "python",
   "name": "python3"
  },
  "language_info": {
   "codemirror_mode": {
    "name": "ipython",
    "version": 3
   },
   "file_extension": ".py",
   "mimetype": "text/x-python",
   "name": "python",
   "nbconvert_exporter": "python",
   "pygments_lexer": "ipython3",
   "version": "3.11.9"
  }
 },
 "nbformat": 4,
 "nbformat_minor": 5
}
