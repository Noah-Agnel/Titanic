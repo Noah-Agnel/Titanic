{
 "cells": [
  {
   "cell_type": "markdown",
   "id": "e7a8c4a5",
   "metadata": {},
   "source": [
    "# Analysis of Titanic Data"
   ]
  },
  {
   "cell_type": "code",
   "execution_count": null,
   "id": "f84779f1",
   "metadata": {},
   "outputs": [],
   "source": []
  },
  {
   "cell_type": "markdown",
   "id": "8bc31166",
   "metadata": {},
   "source": [
    "## Importation of Data "
   ]
  },
  {
   "cell_type": "markdown",
   "id": "146dcd07",
   "metadata": {},
   "source": [
    "Survived,Pclass,Name,Sex,Age,SibSp,Parch,Ticket,Fare,Cabin,Embarked,a"
   ]
  },
  {
   "cell_type": "code",
   "execution_count": 3,
   "id": "54bd83cb",
   "metadata": {},
   "outputs": [
    {
     "name": "stdout",
     "output_type": "stream",
     "text": [
      "11\n"
     ]
    }
   ],
   "source": [
    "label = 'Survived,Pclass,Name,Sex,Age,SibSp,Parch,Ticket,Fare,Cabin,Embarked,'\n",
    "count = 0\n",
    "for c in label : \n",
    "    if c == ',':\n",
    "        count +=1\n",
    "print(count)"
   ]
  },
  {
   "cell_type": "code",
   "execution_count": 101,
   "id": "717dfdb9",
   "metadata": {},
   "outputs": [
    {
     "name": "stdout",
     "output_type": "stream",
     "text": [
      "(887, 7)\n",
      "[['0' '3.0' '1' ... '1' '0' '7.25']\n",
      " ['1' '1.0' '0' ... '1' '0' '71.2833']\n",
      " ['1' '3.0' '0' ... '0' '0' '7.925']\n",
      " ...\n",
      " ['0' '3.0' '0' ... '1' '2' '23.45']\n",
      " ['1' '1.0' '1' ... '0' '0' '30.0']\n",
      " ['0' '3.0' '1' ... '0' '0' '7.75']]\n",
      "(887, 7)\n",
      "0\n"
     ]
    }
   ],
   "source": [
    "import csv\n",
    "import numpy as np\n",
    "\n",
    "titanic = []\n",
    "with open('titanic.csv', newline='') as csvfile: \n",
    "    reader = csv.DictReader(csvfile) #Première ligne avec le noms des variables \n",
    "    for i, row in enumerate(reader,start=1) :  # 1 pour ne pas prendre le header en compte \n",
    "        survived = int(row['Survived']) # 0 = No, 1 = Yes\n",
    "        pclass = float(row['Pclass']) # 1 = 1st, 2 = 2nd, 3 = 3rd\n",
    "        sex = 0 if row['Sex'] == 'female' else 1\n",
    "        age = float(row['Age']) \n",
    "        sibsp = int(row['Siblings/Spouses Aboard']) #Siblings and spouses \n",
    "        parch = str(row['Parents/Children Aboard']) # Parents and children \n",
    "        fare = float(row['Fare'])\n",
    "        titanic.append([survived,pclass,sex,age,sibsp,parch,fare]) \n",
    "\n",
    "    titanic = np.array(titanic)\n",
    "    print(titanic.shape)\n",
    "\n",
    "print(titanic)\n",
    "    \n",
    "\n",
    "\n",
    "print(titanic.shape)\n",
    "print(np.sum(titanic == \"nan\"))\n",
    "\n"
   ]
  },
  {
   "cell_type": "markdown",
   "id": "7bf2a6e8",
   "metadata": {},
   "source": [
    "## Exportation des données "
   ]
  },
  {
   "cell_type": "code",
   "execution_count": 99,
   "id": "60f5d601",
   "metadata": {},
   "outputs": [],
   "source": [
    "# Conversion numpy array -> liste de listes\n",
    "data_to_export = titanic.tolist()\n",
    "\n",
    "# Écriture dans un nouveau fichier CSV\n",
    "with open('titanic_cleaned.csv', mode='w', newline='') as file:\n",
    "    writer = csv.writer(file)\n",
    "    # Écrire l'en-tête\n",
    "    writer.writerow(['Survived', 'Pclass', 'Sex','Age','SibSp', 'Parch', 'Fare'])\n",
    "    # Écrire les données\n",
    "    writer.writerows(data_to_export)\n"
   ]
  }
 ],
 "metadata": {
  "kernelspec": {
   "display_name": "Python 3",
   "language": "python",
   "name": "python3"
  },
  "language_info": {
   "codemirror_mode": {
    "name": "ipython",
    "version": 3
   },
   "file_extension": ".py",
   "mimetype": "text/x-python",
   "name": "python",
   "nbconvert_exporter": "python",
   "pygments_lexer": "ipython3",
   "version": "3.11.9"
  }
 },
 "nbformat": 4,
 "nbformat_minor": 5
}
